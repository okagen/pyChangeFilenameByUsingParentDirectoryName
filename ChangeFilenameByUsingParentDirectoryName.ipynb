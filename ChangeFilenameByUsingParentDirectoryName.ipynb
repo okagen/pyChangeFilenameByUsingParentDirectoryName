{
 "cells": [
  {
   "cell_type": "markdown",
   "metadata": {},
   "source": [
    "## Change the filename into a new one which was created by using parent directory names."
   ]
  },
  {
   "cell_type": "code",
   "execution_count": 1,
   "metadata": {},
   "outputs": [],
   "source": [
    "import glob\n",
    "import os\n",
    "import shutil\n",
    "from tqdm import tqdm"
   ]
  },
  {
   "cell_type": "markdown",
   "metadata": {},
   "source": [
    "### <font color='#0000FF'> Define some constants.</font>"
   ]
  },
  {
   "cell_type": "code",
   "execution_count": 2,
   "metadata": {},
   "outputs": [],
   "source": [
    "originalFilePath = 'data\\\\jpeg_org\\\\**\\**\\\\*.jpeg'\n",
    "renamedFileDir = 'data\\\\jpeg\\\\'"
   ]
  },
  {
   "cell_type": "markdown",
   "metadata": {},
   "source": [
    "### <font color=\"0000FF\">Find all files in the target directory.</font>\n",
    "More than 330,000files which I want to rename."
   ]
  },
  {
   "cell_type": "code",
   "execution_count": 3,
   "metadata": {},
   "outputs": [
    {
     "name": "stdout",
     "output_type": "stream",
     "text": [
      "['data\\\\jpeg_org\\\\112\\\\3000\\\\001.jpeg', 'data\\\\jpeg_org\\\\112\\\\3000\\\\002.jpeg', 'data\\\\jpeg_org\\\\112\\\\3000\\\\003.jpeg', 'data\\\\jpeg_org\\\\112\\\\3000\\\\004.jpeg', 'data\\\\jpeg_org\\\\112\\\\3000\\\\005.jpeg', 'data\\\\jpeg_org\\\\112\\\\3000\\\\006.jpeg', 'data\\\\jpeg_org\\\\112\\\\3000\\\\007.jpeg', 'data\\\\jpeg_org\\\\112\\\\3000\\\\008.jpeg', 'data\\\\jpeg_org\\\\112\\\\3000\\\\009.jpeg', 'data\\\\jpeg_org\\\\112\\\\3000\\\\010.jpeg']\n",
      "Number of files :  330167\n"
     ]
    }
   ],
   "source": [
    "originalFiles = glob.glob(originalFilePath)\n",
    "print(originalFiles[:10])\n",
    "print('Number of files : ', len(originalFiles))"
   ]
  },
  {
   "cell_type": "markdown",
   "metadata": {},
   "source": [
    "### <font color=\"0000FF\">Copy files over with a new names.</font>"
   ]
  },
  {
   "cell_type": "code",
   "execution_count": 4,
   "metadata": {},
   "outputs": [
    {
     "name": "stderr",
     "output_type": "stream",
     "text": [
      "100%|██████████| 330167/330167 [53:39<00:00, 102.56it/s] \n"
     ]
    },
    {
     "name": "stdout",
     "output_type": "stream",
     "text": [
      "Number of files :  330167\n"
     ]
    }
   ],
   "source": [
    "progress = tqdm(total=len(originalFiles))\n",
    "\n",
    "for orgFile in originalFiles:\n",
    "    org = orgFile.split('\\\\')\n",
    "    newDir = renamedFileDir + org[2]\n",
    "    newFile = newDir + '\\\\' + org[2] + org[3] + org[4]\n",
    "    \n",
    "    # Create a directory if it doesn't exist.\n",
    "    if not os.path.exists(newDir): os.mkdir(newDir) \n",
    "        \n",
    "    # Copy an original file with new name.\n",
    "    shutil.copyfile(orgFile, newFile)\n",
    "    \n",
    "    # Show a progress bar.\n",
    "    progress.update(1)\n",
    "\n",
    "progress.close()\n",
    "print('Number of files : ', len(originalFiles))"
   ]
  }
 ],
 "metadata": {
  "kernelspec": {
   "display_name": "Python 3",
   "language": "python",
   "name": "python3"
  },
  "language_info": {
   "codemirror_mode": {
    "name": "ipython",
    "version": 3
   },
   "file_extension": ".py",
   "mimetype": "text/x-python",
   "name": "python",
   "nbconvert_exporter": "python",
   "pygments_lexer": "ipython3",
   "version": "3.7.3"
  }
 },
 "nbformat": 4,
 "nbformat_minor": 2
}
